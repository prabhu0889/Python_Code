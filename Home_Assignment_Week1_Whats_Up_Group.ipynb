{
 "cells": [
  {
   "cell_type": "markdown",
   "metadata": {},
   "source": [
    "# list into its square\n"
   ]
  },
  {
   "cell_type": "code",
   "execution_count": 8,
   "metadata": {},
   "outputs": [
    {
     "name": "stdout",
     "output_type": "stream",
     "text": [
      "2\n",
      "4\n",
      "6\n",
      "8\n",
      "10\n",
      "12\n",
      "14\n"
     ]
    }
   ],
   "source": [
    "List1 = [1, 2, 3, 4, 5, 6, 7]\n",
    "\n",
    "for i in List1:\n",
    "    list2 = i * 2\n",
    "    print(list2)\n",
    "   # print(Sorted(list2))"
   ]
  },
  {
   "cell_type": "markdown",
   "metadata": {},
   "source": [
    "# Concatenate two lists in the following order¶\n",
    "input: list1 = [\"Hello \", \"Hi\"] list2 = [\"Divya\", \"Sam\"]\n",
    "\n",
    "output: ['Hello Divya', 'Hello Sam', 'Hi Divya', 'Hi Sam']\n"
   ]
  },
  {
   "cell_type": "code",
   "execution_count": 16,
   "metadata": {},
   "outputs": [
    {
     "name": "stdout",
     "output_type": "stream",
     "text": [
      "['Hello  Divya' , 'Hello  Sam' , 'Hi Divya' , 'Hi Sam']\n"
     ]
    }
   ],
   "source": [
    "List1 = [\"Hello \", \"Hi\"]\n",
    "List2 = [\"Divya\", \"Sam\"]\n",
    "\n",
    "print(\"['\"+List1[0]+ \" \" +List2[0]+\"' , '\"+List1[0]+ \" \" +List2[1]+\"' , '\"+List1[1]+ \" \" +List2[0]+\"' , '\"+List1[1]+ \" \" \n",
    "      +List2[1]+\"']\")"
   ]
  },
  {
   "cell_type": "code",
   "execution_count": null,
   "metadata": {},
   "outputs": [],
   "source": []
  }
 ],
 "metadata": {
  "kernelspec": {
   "display_name": "Python 3",
   "language": "python",
   "name": "python3"
  },
  "language_info": {
   "codemirror_mode": {
    "name": "ipython",
    "version": 3
   },
   "file_extension": ".py",
   "mimetype": "text/x-python",
   "name": "python",
   "nbconvert_exporter": "python",
   "pygments_lexer": "ipython3",
   "version": "3.8.3"
  }
 },
 "nbformat": 4,
 "nbformat_minor": 4
}
