{
 "cells": [
  {
   "cell_type": "markdown",
   "metadata": {},
   "source": [
    "#  Write a program which accepts a sequence of comma-separated numbers from console and generate a list and a tuple which contains every number."
   ]
  },
  {
   "cell_type": "code",
   "execution_count": 3,
   "metadata": {},
   "outputs": [
    {
     "name": "stdout",
     "output_type": "stream",
     "text": [
      "Enter the value: 34,67,55,33,12,98\n",
      "['34', '67', '55', '33', '12', '98']\n",
      "('34', '67', '55', '33', '12', '98')\n"
     ]
    }
   ],
   "source": [
    "values = input(\"Enter the value: \")\n",
    "list = values.split(\",\")\n",
    "print(list)\n",
    "tp = tuple(list)\n",
    "print(tp)"
   ]
  },
  {
   "cell_type": "markdown",
   "metadata": {},
   "source": [
    "# With a given tuple, Write a program to print the first half values in one line and the last half values in one line.\n",
    "\n",
    "Sample Input : (1,2,3,4,5,6,7,8,9,10, 11) Expected output : (1,2,3,4,5) (6,7,8,9,10)"
   ]
  },
  {
   "cell_type": "code",
   "execution_count": 3,
   "metadata": {},
   "outputs": [
    {
     "name": "stdout",
     "output_type": "stream",
     "text": [
      "(1, 2, 3, 4, 5)\n",
      "(6, 7, 8, 9, 10)\n"
     ]
    }
   ],
   "source": [
    "tuple = (1,2,3,4,5,6,7,8,9,10,11)\n",
    "tp1 = tuple[:5]\n",
    "tp2 = tuple[5:10]\n",
    "print(tp1)\n",
    "print(tp2)"
   ]
  },
  {
   "cell_type": "markdown",
   "metadata": {},
   "source": [
    "# Write a program to generate and print another tuple whose values are even numbers in the given tuple\n",
    "\n",
    "Sample Input : (1,2,3,4,5,6,7,8,9,10)\n",
    "Expected Output : (2, 4, 6, 8, 10)"
   ]
  },
  {
   "cell_type": "code",
   "execution_count": 5,
   "metadata": {},
   "outputs": [
    {
     "name": "stdout",
     "output_type": "stream",
     "text": [
      "(2, 4, 6, 8, 10)\n"
     ]
    }
   ],
   "source": [
    "Tuple1 = (1,2,3,4,5,6,7,8,9,10)\n",
    "print(Tuple1[1:10:2])"
   ]
  },
  {
   "cell_type": "markdown",
   "metadata": {},
   "source": [
    "#  With two given lists, write a program to make a list, whose elements are intersection of the above given lists.\n",
    "\n",
    "Sample inputs : [12,3,6,88,35,55] [12,24,35,24,88,120,155]\n",
    "\n",
    "Expected output : [12,88,35]"
   ]
  },
  {
   "cell_type": "code",
   "execution_count": 12,
   "metadata": {},
   "outputs": [
    {
     "name": "stdout",
     "output_type": "stream",
     "text": [
      "{88, 35, 12}\n"
     ]
    }
   ],
   "source": [
    "List1 = [12,3,6,88,35,55]\n",
    "List2 = [12,24,35,24,88,120,155]\n",
    "\n",
    "a = set(List1)\n",
    "b = set(List2)\n",
    "\n",
    "# value = (a & b)\n",
    "# print(value)\n",
    "\n",
    "# to compute the intersected list. intersection() is a first-class part of set.\n",
    "value  = ( a.intersection(b))\n",
    "print(value)\n",
    "\n"
   ]
  },
  {
   "cell_type": "code",
   "execution_count": 28,
   "metadata": {},
   "outputs": [
    {
     "name": "stdout",
     "output_type": "stream",
     "text": [
      "[12, 88, 35]\n"
     ]
    }
   ],
   "source": [
    "List1 = [12,3,6,88,35,55]\n",
    "List2 = [12,24,35,24,88,120,155]\n",
    "\n",
    "lst3 = [value for value in List1\n",
    "        if value in List2]\n",
    "print(lst3)"
   ]
  },
  {
   "cell_type": "markdown",
   "metadata": {},
   "source": [
    "# With a given list, write a program to print this list after removing all duplicate values with original order reserved.\n",
    "\n",
    "Sample Input : [12,24,35,24,88,155,88,120,155] Expected output : [12, 24, 35, 88, 155, 120]"
   ]
  },
  {
   "cell_type": "code",
   "execution_count": 37,
   "metadata": {},
   "outputs": [
    {
     "name": "stdout",
     "output_type": "stream",
     "text": [
      "Removing all the duplicates values and with original order reversed:  [12, 24, 35, 88, 120, 155]\n"
     ]
    }
   ],
   "source": [
    "List3 = [12,24,35,24,88,155,88,120,155]\n",
    "\n",
    "#convert list to Set\n",
    "lst = set(List3)\n",
    "#print(lst)\n",
    "# Convert to Set to List\n",
    "st = list(lst)\n",
    "print(\"Removing all the duplicates values and with original order reversed: \",sorted(st))\n",
    "\n",
    "\n"
   ]
  },
  {
   "cell_type": "code",
   "execution_count": null,
   "metadata": {},
   "outputs": [],
   "source": []
  }
 ],
 "metadata": {
  "kernelspec": {
   "display_name": "Python 3",
   "language": "python",
   "name": "python3"
  },
  "language_info": {
   "codemirror_mode": {
    "name": "ipython",
    "version": 3
   },
   "file_extension": ".py",
   "mimetype": "text/x-python",
   "name": "python",
   "nbconvert_exporter": "python",
   "pygments_lexer": "ipython3",
   "version": "3.8.3"
  }
 },
 "nbformat": 4,
 "nbformat_minor": 4
}
